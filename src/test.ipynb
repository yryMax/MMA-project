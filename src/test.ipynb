{
 "cells": [
  {
   "cell_type": "code",
   "execution_count": 9,
   "metadata": {
    "collapsed": true,
    "pycharm": {
     "name": "#%%\n"
    }
   },
   "outputs": [],
   "source": [
    "\n",
    "import cv2\n",
    "import matplotlib.pyplot as plt"
   ]
  },
  {
   "cell_type": "code",
   "execution_count": 6,
   "outputs": [],
   "source": [
    "def sift_descriptor(image):\n",
    "    sift = cv2.SIFT_create()\n",
    "    kp = sift.detect(image,None)\n",
    "    print(kp)\n",
    "    img2 = cv2.drawKeypoints(image, kp, None, flags=0)\n",
    "    return img2"
   ],
   "metadata": {
    "collapsed": false,
    "pycharm": {
     "name": "#%%\n"
    }
   }
  },
  {
   "cell_type": "code",
   "execution_count": 3,
   "outputs": [],
   "source": [
    "def downsample(image,length = 50):\n",
    "    height, width = image.shape\n",
    "    if height < width:\n",
    "        ratio = length/height\n",
    "        new_height = length\n",
    "        new_width = int(width*ratio)\n",
    "    else:\n",
    "        ratio = length/width\n",
    "        new_width = length\n",
    "        new_height = int(height*ratio)\n",
    "    return cv2.resize(image, (new_width, new_height))\n"
   ],
   "metadata": {
    "collapsed": false,
    "pycharm": {
     "name": "#%%\n"
    }
   }
  },
  {
   "cell_type": "code",
   "execution_count": 8,
   "outputs": [
    {
     "name": "stdout",
     "output_type": "stream",
     "text": [
      "(< cv2.KeyPoint 00000248A0E9EC40>, < cv2.KeyPoint 00000248A0E9F180>, < cv2.KeyPoint 00000248A0E9E760>, < cv2.KeyPoint 00000248A0E9DBF0>, < cv2.KeyPoint 00000248A0E9F870>, < cv2.KeyPoint 00000248A0E9DC80>, < cv2.KeyPoint 00000248A0E9E8E0>, < cv2.KeyPoint 00000248A0E9D650>, < cv2.KeyPoint 00000248A0E9E550>, < cv2.KeyPoint 00000248A0E9D950>, < cv2.KeyPoint 00000248A0E9C300>, < cv2.KeyPoint 00000248A0E9E3D0>, < cv2.KeyPoint 00000248A0E9EB20>, < cv2.KeyPoint 00000248A0E9FA50>, < cv2.KeyPoint 00000248A0E9F630>)\n"
     ]
    },
    {
     "ename": "NameError",
     "evalue": "name 'plt' is not defined",
     "output_type": "error",
     "traceback": [
      "\u001B[1;31m---------------------------------------------------------------------------\u001B[0m",
      "\u001B[1;31mNameError\u001B[0m                                 Traceback (most recent call last)",
      "Cell \u001B[1;32mIn[8], line 5\u001B[0m\n\u001B[0;32m      3\u001B[0m gray \u001B[38;5;241m=\u001B[39m downsample(gray)\n\u001B[0;32m      4\u001B[0m out \u001B[38;5;241m=\u001B[39m sift_descriptor(gray)\n\u001B[1;32m----> 5\u001B[0m \u001B[43mplt\u001B[49m\u001B[38;5;241m.\u001B[39mimshow(out)\n",
      "\u001B[1;31mNameError\u001B[0m: name 'plt' is not defined"
     ]
    }
   ],
   "source": [
    "img = cv2.imread('../data/nk/aaf_t_nk_p_m_kerkbol.jpg')\n",
    "gray = cv2.cvtColor(img, cv2.COLOR_BGR2GRAY)\n",
    "gray = downsample(gray)\n",
    "out = sift_descriptor(gray)\n",
    "plt.imshow(out)\n"
   ],
   "metadata": {
    "collapsed": false,
    "pycharm": {
     "name": "#%%\n"
    }
   }
  },
  {
   "cell_type": "code",
   "execution_count": null,
   "outputs": [],
   "source": [],
   "metadata": {
    "collapsed": false,
    "pycharm": {
     "name": "#%%\n"
    }
   }
  },
  {
   "cell_type": "code",
   "execution_count": 12,
   "outputs": [
    {
     "name": "stdout",
     "output_type": "stream",
     "text": [
      "(< cv2.KeyPoint 000002489F6D8E70>, < cv2.KeyPoint 000002489F68C2D0>, < cv2.KeyPoint 000002489F68C960>, < cv2.KeyPoint 000002489F68C9C0>, < cv2.KeyPoint 000002489FA0E820>, < cv2.KeyPoint 000002489FA0DB30>, < cv2.KeyPoint 000002489FA0F4B0>, < cv2.KeyPoint 000002489FA0D0B0>, < cv2.KeyPoint 000002489FA0CD80>, < cv2.KeyPoint 000002489FA0D020>, < cv2.KeyPoint 000002489FA0D2C0>, < cv2.KeyPoint 000002489FA0DE00>, < cv2.KeyPoint 000002489FA0EB50>)\n"
     ]
    },
    {
     "data": {
      "text/plain": "<matplotlib.image.AxesImage at 0x248a10b8370>"
     },
     "execution_count": 12,
     "metadata": {},
     "output_type": "execute_result"
    },
    {
     "data": {
      "text/plain": "<Figure size 640x480 with 1 Axes>",
      "image/png": "[encoded data removed]"
     },
     "metadata": {},
     "output_type": "display_data"
    }
   ],
   "source": [
    "\n",
    "img = cv2.imread('../data/nk/ler_t_nk_z_m_tower.jpg')\n",
    "gray = cv2.cvtColor(img, cv2.COLOR_BGR2GRAY)\n",
    "gray = downsample(gray)\n",
    "out = sift_descriptor(gray)\n",
    "plt.imshow(out)"
   ],
   "metadata": {
    "collapsed": false,
    "pycharm": {
     "name": "#%%\n"
    }
   }
  },
  {
   "cell_type": "code",
   "execution_count": 16,
   "outputs": [
    {
     "name": "stdout",
     "output_type": "stream",
     "text": [
      "28\n"
     ]
    }
   ],
   "source": [
    "import sift_decriptor as sd\n",
    "import cv2\n",
    "img = cv2.imread('../data/nk/tal_t_nk_p_w_bakfiets.jpg')\n",
    "gray = cv2.cvtColor(img, cv2.COLOR_BGR2GRAY)\n",
    "gray = downsample(gray)\n",
    "res = sd.sift_descriptor(gray)\n",
    "print(len(res))"
   ],
   "metadata": {
    "collapsed": false,
    "pycharm": {
     "name": "#%%\n"
    }
   }
  }
 ],
 "metadata": {
  "kernelspec": {
   "display_name": "Python 3",
   "language": "python",
   "name": "python3"
  },
  "language_info": {
   "codemirror_mode": {
    "name": "ipython",
    "version": 2
   },
   "file_extension": ".py",
   "mimetype": "text/x-python",
   "name": "python",
   "nbconvert_exporter": "python",
   "pygments_lexer": "ipython2",
   "version": "2.7.6"
  }
 },
 "nbformat": 4,
 "nbformat_minor": 0
}